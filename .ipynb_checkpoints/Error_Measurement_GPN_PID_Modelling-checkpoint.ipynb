{
 "cells": [
  {
   "cell_type": "markdown",
   "id": "81395d48",
   "metadata": {},
   "source": [
    "# Расчёт неопределенности в математическом моделировании системы управления уровнем ГПН-ПИД\n",
    "\n",
    "На данном проекте будет вычислена непорделленность в моделировании передаточной функции оюъекта управления, т.е., уровня жидкости для системы управления уровнем ГПН-ПИД.\n",
    "\n",
    "* Математическое моделирование системы управления выполнятеся путем определения передаточной функции объекта управления и исполнительного механизма\n",
    "\n",
    "* В данном случае,\n",
    "    * объект управления: уровень рабочей жидкости\n",
    "    * Исполнительный механизм: Сепаратор (который служит клапаном)\n",
    "    * Полученная передаточная функция: W(S) = 1,23/12,04S+1\n",
    "    * Параметры, влияющие на определения передаточной функции: Номинальная уровень (H), площадь сечения клапана (Sk) и площадь поверхности среды (В данном случае контейнера рабочей жидкости)\n",
    "\n",
    "* По стандартом ГОСТ, известно что неопреденность в\n",
    "    * Измерении уровня: +/- 3мм\n",
    "    * Измерении площади: 5% измеренного значения \n",
    "* Значения этих параметров: \n",
    "    * Номинальная уровень: 700мм = 0,7м\n",
    "    * Площадь сечения клапана: 1,13 м2\n",
    "    * Площадь поверхности среды: 36 м2\n",
    "\n",
    "\n",
    "**Вычисление неопределенности в передаточной функции будет проведена путем вычисления неопределенности в определении коэфициента передачи (К) и в постоянной времени (Т), передаточной функции.**\n",
    "\n",
    "**В этом проекте будет вычислена общая неопределлность в определении передаточной функции объекта управления методом Монте-Карло**\n"
   ]
  },
  {
   "cell_type": "code",
   "execution_count": 3,
   "id": "0ae2b908",
   "metadata": {},
   "outputs": [],
   "source": [
    "# Library imports\n",
    "import numpy as np # numpy is required for random calculations and arrays\n",
    "import pandas as pd # Pandas can be required if data structures and other plottings come into play\n",
    "import math"
   ]
  },
  {
   "cell_type": "markdown",
   "id": "1a03c477",
   "metadata": {},
   "source": [
    "## 1. Генерация массивов\n"
   ]
  },
  {
   "cell_type": "code",
   "execution_count": 5,
   "id": "408cae59",
   "metadata": {},
   "outputs": [],
   "source": [
    "# Put in a random seed \n",
    "np.random.seed(9)\n",
    "# Generate an array of 1000 uniformly distributed random numbers between min. and max. values of nominal height\n",
    "# Min. value of height = 690mm = 0.697m, max. value of height = 703mm = 0.703m\n",
    "liquid_level_array = np.random.uniform(0.697, 0.703, 1000)\n",
    "# Generate an array of 1000 uniformly distributed random numbers between min. and max. value of valve cross-section\n",
    "# Min. and max. values of valve cross-section are: 1.0735m2 and 1.1865m2\n",
    "valve_area_array = np.random.uniform(1.0735, 1.1865, 1000)\n",
    "# Generate an array of 1000 uniformly distributed random numbers between min. and max. value of liquid tank surface area\n",
    "# Min and max values are 34.2 m2 and 37.8 m2\n",
    "tank_area_array = np.random.uniform(34.2, 37.8, 1000)\n"
   ]
  },
  {
   "cell_type": "markdown",
   "id": "b4a495e5",
   "metadata": {},
   "source": [
    "## 2. Вычисление неопределенности в коэффициенте передачи передаточной функции"
   ]
  },
  {
   "cell_type": "code",
   "execution_count": 7,
   "id": "c23d0003",
   "metadata": {},
   "outputs": [],
   "source": [
    "# Formula to calculate coefficient K: 2H/Sk (H=Nominal height, Sk= Valve cross-section)\n",
    "# Define a function to calculate the error in measurement of coefficient \n",
    "def error_in_transfer_coeff(height_array, cross_section_array):\n",
    "    \"\"\"\n",
    "    Function to calculate the error in measurement of transfer coefficient K. \n",
    "    Takes nominal height and valve cross-section area as input\n",
    "    \"\"\"\n",
    "    # An array of 1000 zeroes\n",
    "    k_vals = np.zeros(1000)\n",
    "    # 1000 coefficient values for each value in the liquid level and valve area arrays\n",
    "    for i in range(0,1000):\n",
    "        k_vals[i] = ((2*height_array[i])/cross_section_array[i])\n",
    "    # Now another array of 1000 zeroes\n",
    "    k_vals_diff_array = np.zeros(1000)\n",
    "    # Now calculate the absolute difference between the measured value and the various coefficient values in k_vals\n",
    "    for j in range(0,1000):\n",
    "        k_vals_diff_array[j]=abs(k_vals[j]-1.23)\n",
    "    return(np.max(k_vals_diff_array))"
   ]
  },
  {
   "cell_type": "code",
   "execution_count": 8,
   "id": "25be5803",
   "metadata": {},
   "outputs": [
    {
     "name": "stdout",
     "output_type": "stream",
     "text": [
      "The error in measuring the transfer coefficient of the transfer function is 0.077 \n"
     ]
    }
   ],
   "source": [
    "# Use this function with height array and valve area array for the parameters of GPN-PID\n",
    "print(f\"The error in measuring the transfer coefficient of the transfer function is {error_in_transfer_coeff(liquid_level_array,valve_area_array):.3f} \")"
   ]
  },
  {
   "cell_type": "markdown",
   "id": "a85757fb",
   "metadata": {},
   "source": [
    "## 3. Вычисление неопределенности в определении посстоянной времени"
   ]
  },
  {
   "cell_type": "code",
   "execution_count": 10,
   "id": "9f345bd8",
   "metadata": {},
   "outputs": [],
   "source": [
    "# Define a function to calculate the error in measuring the time constant\n",
    "def error_in_time_constant(height_array, valve_area_array, tank_area_array):\n",
    "    \"\"\"\n",
    "    Function to calculate the error in measuring the time constant of the transfunction of liquid level as a control object\n",
    "    \"\"\"\n",
    "    # An array of 1000 zeroes to fill in values of 1000 time constants later\n",
    "    t_vals = np.zeros(1000)\n",
    "    # Calculate 1000 time constants from the values of values of the three arrays\n",
    "    for i in range(0,1000):\n",
    "        t_vals[i] = np.sqrt((2*height_array[i])/9.8) * ((tank_area_array[i])/(valve_area_array[i]))\n",
    "    \n",
    "    # Another array of zeroes is required to put in the differential values\n",
    "    t_vals_diff_array = np.zeros(1000)\n",
    "    # Now calculate the error \n",
    "    for j in range(0,1000):\n",
    "        t_vals_diff_array[j] = abs(t_vals[j]-12.04)\n",
    "    # Return the maximum value in the array of differentials\n",
    "    return(np.max(t_vals_diff_array))\n",
    "        \n",
    "    "
   ]
  },
  {
   "cell_type": "code",
   "execution_count": 11,
   "id": "55f64e8c",
   "metadata": {},
   "outputs": [
    {
     "name": "stdout",
     "output_type": "stream",
     "text": [
      "The error in measuring the time constant of the transfer function of liquid level is 1.196 s\n"
     ]
    }
   ],
   "source": [
    "# Calculate the error in time constant measurement for T/F in GPN-PID\n",
    "print(f\"The error in measuring the time constant of the transfer function of liquid level is {error_in_time_constant(liquid_level_array, valve_area_array, tank_area_array):.3f} s\")"
   ]
  },
  {
   "cell_type": "markdown",
   "id": "85e8c3e7-b47c-4874-985a-e55544e005d5",
   "metadata": {},
   "source": [
    "## Вычисление погрешности по методу Криновича"
   ]
  },
  {
   "cell_type": "markdown",
   "id": "a77b70cd-1a86-491b-84ef-d5c4fd64fd8b",
   "metadata": {},
   "source": [
    "* В данном случае, мы вычисляем погрешность в математическом моделировании системы управления уровнем нефти\n",
    "* Т.е. погрешность в определении передаточной функции\n",
    "* Передаточная функция управления уровнем используя клапан в качестве исполнительного механизма моделируется следующим образом:\n",
    "  `W(S) = K/1+TS`, где: К - Коэффициент передачи и Т - Постоянная времени\n",
    "  `К = 2Н/Sk`; Н - Номинальный уровень, Sk - Площадь сечения регулирующего клапана\n",
    "  `Т = sqrt(2H/g)*(Sk/Sп)`; g - ускорение силы тяжести, Sп - площадь поверхности среды (Бака)\n",
    "* В данном случае: `H = 700mm = 0.7m`\n",
    "                   `Sk = 1.13 m2`\n",
    "                   `Sп = 36 m2`\n",
    "* По ГОСТ: максимальная возможная погрешность в определении уровня = +/- 10мм,\n",
    "                                                                      `delta_H = 0.01m`\n",
    "                                              в определении площади: +/- 5% определеннного значения\n",
    "                                                                      `delta_Sk = 0.0565m2`\n",
    "                                                                      `delta_Sп = 1.8m2`\n",
    "* Потом вычислим параметр масштаба массива выходных значения `d_delta_k_array` и `d_delta_T_array`"
   ]
  },
  {
   "cell_type": "code",
   "execution_count": 14,
   "id": "e8cbb579-3fc9-4b7e-b9a9-257954d72d0f",
   "metadata": {},
   "outputs": [],
   "source": [
    "# Time to generate the random numbers as per Cauchy distribution\n",
    "# N = 300\n",
    "# scale parameter k = 0.001\n",
    "np.random.seed(96)\n",
    "# Generate an array of 300 uniformly distributed random numbers between 0 and 1\n",
    "z = np.random.uniform(0,1,300)\n",
    "k = 0.0001\n",
    "H = 0.7\n",
    "Sk = 1.13\n",
    "Sp = 36\n",
    "cauchy_height_array = np.zeros(300)\n",
    "cauchy_valve_area_array = np.zeros(300)\n",
    "cauchy_tank_area_array = np.zeros(300)\n",
    "# fill the height array\n",
    "for i in range(0,300):\n",
    "    cauchy_height_array[i] = H + k*np.tan(math.pi*(z[i]-0.5))\n",
    "# fill the valve area array\n",
    "for i in range(0,300):\n",
    "    cauchy_valve_area_array[i] = Sk + k*np.tan(math.pi*(z[i]-0.5))\n",
    "# fill the tank area array\n",
    "for i in range(0,300):\n",
    "    cauchy_tank_area_array[i] = Sp + k*np.tan(math.pi*(z[i]-0.5))"
   ]
  },
  {
   "cell_type": "code",
   "execution_count": 15,
   "id": "f119280f-843a-46ba-afba-f3fafe716ce8",
   "metadata": {},
   "outputs": [],
   "source": [
    "# Calculate time constant and transfer coefficient for each value of the three arrays\n",
    "transfer_coefficient = 1.23\n",
    "time_constant = 12.04\n",
    "\n",
    "transfer_coefficient_array = np.zeros(300)\n",
    "time_constant_array = np.zeros(300)\n",
    "for i in range(0,300):\n",
    "    transfer_coefficient_array [i] = ((2*cauchy_height_array[i])/(cauchy_valve_area_array[i]))\n",
    "    time_constant_array[i] = ((np.sqrt(2*cauchy_height_array[i]/9.8))*(cauchy_tank_area_array[i]/cauchy_valve_area_array[i]))"
   ]
  },
  {
   "cell_type": "code",
   "execution_count": 16,
   "id": "6ff9621b-d832-422b-8129-54531ff6e08b",
   "metadata": {},
   "outputs": [],
   "source": [
    "# Calculate the differentials\n",
    "delta_k_array = np.zeros(300)\n",
    "delta_T_array = np.zeros(300)\n",
    "for i in range(0,300):\n",
    "    delta_k_array[i] = abs(1.23-transfer_coefficient_array[i])\n",
    "    delta_T_array[i] = abs(12.04-time_constant_array[i])"
   ]
  },
  {
   "cell_type": "code",
   "execution_count": 17,
   "id": "286ce9e3-52be-462e-9448-b2ee76f0b081",
   "metadata": {},
   "outputs": [
    {
     "data": {
      "text/plain": [
       "(0.2161316120673531, 0.2705077928425954)"
      ]
     },
     "execution_count": 17,
     "metadata": {},
     "output_type": "execute_result"
    }
   ],
   "source": [
    "np.max(delta_k_array), np.max(delta_T_array)"
   ]
  },
  {
   "cell_type": "code",
   "execution_count": 18,
   "id": "ad323fd1-4969-4069-97d6-e7eae8041563",
   "metadata": {},
   "outputs": [],
   "source": [
    "def bisection_method_calculation (array, N, start_point, end_point):\n",
    "    \"\"\"\n",
    "    Данная функция принимает массив (array) и размер массива (N) \n",
    "    и вычисляет sum(1-300)(d^2/d^2+del_yj^2) - N/2\n",
    "    принимая значения start_point и end_point ддя d \n",
    "    \"\"\"\n",
    "    sum1=0\n",
    "    sum2=0\n",
    "    sum3=0\n",
    "    if (end_point>start_point):\n",
    "        #print(\"End point and start points are valid, we can proceed\")\n",
    "        \n",
    "        mid_point =(start_point + (end_point - start_point)/2)\n",
    "        for i in range (0,N):\n",
    "            sum1 = sum1 + (start_point**2/(start_point**2+(array[i]**2)))\n",
    "            sum2 = sum2 + (mid_point**2/(mid_point**2+(array[i]**2)))\n",
    "            sum3 = sum3 + (end_point**2/(end_point**2+(array[i]**2)))\n",
    "        \n",
    "    else:\n",
    "        print(\"Invalid start and end point. Please try again with different values\")\n",
    "    return(sum1-N/2, sum2-N/2, sum3-N/2)"
   ]
  },
  {
   "cell_type": "code",
   "execution_count": 19,
   "id": "c888aa91-40f0-4e40-abb4-5cbf69d379f5",
   "metadata": {},
   "outputs": [],
   "source": [
    "def bisection_method_logic(array, N, start_point, end_point):\n",
    "    \"\"\"\n",
    "    В данной фунции, реализуется логика выполнения метода бисекции для наших распределенные по Коши массивов\n",
    "    внутри функции выполняется функция bisection_method_calculation. \n",
    "    Из возрашенных результатов, если sum1-N/2, sum2-N/2, sum3-N/2 > 0 то невозможно получить результат в этом диапазоне и требуются\n",
    "    другие начальные и конечные точки.\n",
    "\n",
    "    Если один из них равен 0 то это решение\n",
    "\n",
    "    Если sum1-N/2 < 0, sum2-N/2 > 0 и sum3-N/2 >0 то теперь решение надо найти между start-point и mid-point\n",
    "    Если sum1-N/2 <0, sum2-N/2 < 0 и sum3-N/2 > 0 то решение надо найти между mid-point и end-point\n",
    "    \n",
    "    \"\"\"\n",
    "    start = start_point\n",
    "    end = end_point\n",
    "    mid =(start + (end - start)/2)\n",
    "    (res1, res2, res3) = bisection_method_calculation(array, N, start, end)\n",
    "    while (abs(res1)>=(10**-15) or abs(res2)>=(10**-15) or (abs(res3)>=(10**-15))):\n",
    "        # None of the results are 0\n",
    "        if (res1<0 and res2 >0 and res3 >0):\n",
    "            # Sign change between start and mid points\n",
    "            end = mid\n",
    "            (res1, res2, res3) = bisection_method_calculation(array, N, start, end)\n",
    "            mid = (start + (end - start)/2)\n",
    "        elif (res1<0 and res2 < 0 and res3 >0):\n",
    "            # Value changes between mid and end-point\n",
    "            start = mid            \n",
    "            (res1,res2,res3) = bisection_method_calculation(array, N, start, end)\n",
    "            mid = (start + (end - start)/2)\n",
    "        else:\n",
    "            print(\"We have reached a break point and might have a solution\")\n",
    "            print(f\"{(res1,res2,res3)}\")\n",
    "            print(f\"{(start,mid,end)}\")\n",
    "            if (res1==0 or res2==0 or res3==0):\n",
    "                print(\"We have a proper solution with one of the solutions being 0\")\n",
    "                if (res1==0):\n",
    "                    print(f\"Параметр масштаба: {start}\")\n",
    "                    return start\n",
    "                elif(res2==0):\n",
    "                    print(f\"Параметр масштаба: {mid}\")\n",
    "                    return mid                    \n",
    "                elif(res3==0):\n",
    "                    print(f\"Параметр масштаба: {end}\")\n",
    "                    return end\n",
    "            else:\n",
    "                print(\"We don't have a proper solution but we have a break point\")\n",
    "                if (np.min(res1,res2,res3)==res1):\n",
    "                    print(f\"Параметр масштаба: {start}\")\n",
    "                    return start\n",
    "                elif (np.min(res1,res2,res3)==res2):\n",
    "                    print(f\"Параметр масштаба: {mid}\")\n",
    "                    return mid\n",
    "                elif (np.min(res1,res2,res3)==res3):\n",
    "                    print(f\"Параметр масштаба: {end}\")\n",
    "                    return end\n",
    "                break\n",
    "                                    \n",
    "            break\n",
    "    else: \n",
    "        print(\"We might have a solution\")\n",
    "        print(f\"{(res1,res2,res3)}\")\n",
    "        if (np.min(res1,res2,res3)==res1):\n",
    "            print(f\"Параметр масштаба: {start}\")\n",
    "            return start\n",
    "        elif (np.min(res1,res2,res3)==res2):\n",
    "            print(f\"Параметр масштаба: {mid}\")\n",
    "            return mid\n",
    "        elif (np.min(res1,res2,res3)==res3):\n",
    "            print(f\"Параметр масштаба: {end}\")\n",
    "            return end\n",
    "    \n",
    "        \n",
    "        "
   ]
  },
  {
   "cell_type": "code",
   "execution_count": 20,
   "id": "4abb7e25-d788-4cbc-9969-0776d6af52e1",
   "metadata": {},
   "outputs": [
    {
     "name": "stdout",
     "output_type": "stream",
     "text": [
      "We have reached a break point and might have a solution\n",
      "(-5.684341886080802e-14, 0.0, 5.684341886080802e-14)\n",
      "(0.0013438458882195706, 0.0013438458882195714, 0.0013438458882195723)\n",
      "We have a proper solution with one of the solutions being 0\n",
      "Параметр масштаба: 0.0013438458882195714\n"
     ]
    },
    {
     "data": {
      "text/plain": [
       "0.0013438458882195714"
      ]
     },
     "execution_count": 20,
     "metadata": {},
     "output_type": "execute_result"
    }
   ],
   "source": [
    "bisection_method_logic(delta_T_array, 300, 0, 1)"
   ]
  },
  {
   "cell_type": "code",
   "execution_count": 21,
   "id": "d3529e41-eb10-45e9-af4c-8a5c906828b7",
   "metadata": {},
   "outputs": [
    {
     "name": "stdout",
     "output_type": "stream",
     "text": [
      "We have reached a break point and might have a solution\n",
      "(-9.379164112033322e-13, 0.0, 8.810729923425242e-13)\n",
      "(0.009017106017613408, 0.009017106017613463, 0.009017106017613519)\n",
      "We have a proper solution with one of the solutions being 0\n",
      "Параметр масштаба: 0.009017106017613463\n"
     ]
    },
    {
     "data": {
      "text/plain": [
       "0.009017106017613463"
      ]
     },
     "execution_count": 21,
     "metadata": {},
     "output_type": "execute_result"
    }
   ],
   "source": [
    "bisection_method_logic(delta_k_array, 300, 0, 1)"
   ]
  },
  {
   "cell_type": "code",
   "execution_count": null,
   "id": "e1af01ce-492d-45c7-a7f4-fcff4c140d25",
   "metadata": {},
   "outputs": [],
   "source": []
  }
 ],
 "metadata": {
  "kernelspec": {
   "display_name": "Python 3 (ipykernel)",
   "language": "python",
   "name": "python3"
  },
  "language_info": {
   "codemirror_mode": {
    "name": "ipython",
    "version": 3
   },
   "file_extension": ".py",
   "mimetype": "text/x-python",
   "name": "python",
   "nbconvert_exporter": "python",
   "pygments_lexer": "ipython3",
   "version": "3.9.19"
  }
 },
 "nbformat": 4,
 "nbformat_minor": 5
}
